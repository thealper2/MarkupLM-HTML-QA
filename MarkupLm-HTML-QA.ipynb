{
 "cells": [
  {
   "cell_type": "code",
   "execution_count": 13,
   "id": "2f7e31d8",
   "metadata": {},
   "outputs": [],
   "source": [
    "import torch\n",
    "from transformers import MarkupLMProcessor, MarkupLMTokenizerFast, MarkupLMFeatureExtractor"
   ]
  },
  {
   "cell_type": "code",
   "execution_count": 14,
   "id": "579a9b59",
   "metadata": {},
   "outputs": [
    {
     "data": {
      "application/vnd.jupyter.widget-view+json": {
       "model_id": "d3299302eced49b6a37de4b05a0243ae",
       "version_major": 2,
       "version_minor": 0
      },
      "text/plain": [
       "Downloading (…)okenizer_config.json:   0%|          | 0.00/5.53k [00:00<?, ?B/s]"
      ]
     },
     "metadata": {},
     "output_type": "display_data"
    },
    {
     "data": {
      "application/vnd.jupyter.widget-view+json": {
       "model_id": "bc1c72651543450aaceee6393bc642d9",
       "version_major": 2,
       "version_minor": 0
      },
      "text/plain": [
       "Downloading (…)olve/main/vocab.json:   0%|          | 0.00/798k [00:00<?, ?B/s]"
      ]
     },
     "metadata": {},
     "output_type": "display_data"
    },
    {
     "data": {
      "application/vnd.jupyter.widget-view+json": {
       "model_id": "b2dedc4ba10a4910991cde38d4d6ca72",
       "version_major": 2,
       "version_minor": 0
      },
      "text/plain": [
       "Downloading (…)olve/main/merges.txt:   0%|          | 0.00/456k [00:00<?, ?B/s]"
      ]
     },
     "metadata": {},
     "output_type": "display_data"
    },
    {
     "data": {
      "application/vnd.jupyter.widget-view+json": {
       "model_id": "19c160eeadb6475294e2bd29a375c649",
       "version_major": 2,
       "version_minor": 0
      },
      "text/plain": [
       "Downloading (…)/main/tokenizer.json:   0%|          | 0.00/2.11M [00:00<?, ?B/s]"
      ]
     },
     "metadata": {},
     "output_type": "display_data"
    },
    {
     "data": {
      "application/vnd.jupyter.widget-view+json": {
       "model_id": "b199876a364245e4a513439fd48c0f31",
       "version_major": 2,
       "version_minor": 0
      },
      "text/plain": [
       "Downloading (…)in/added_tokens.json:   0%|          | 0.00/55.0 [00:00<?, ?B/s]"
      ]
     },
     "metadata": {},
     "output_type": "display_data"
    },
    {
     "data": {
      "application/vnd.jupyter.widget-view+json": {
       "model_id": "3301cf1bd6ce4ee2bde7087cc72bcf5b",
       "version_major": 2,
       "version_minor": 0
      },
      "text/plain": [
       "Downloading (…)cial_tokens_map.json:   0%|          | 0.00/280 [00:00<?, ?B/s]"
      ]
     },
     "metadata": {},
     "output_type": "display_data"
    }
   ],
   "source": [
    "feature_extractor = MarkupLMFeatureExtractor()\n",
    "tokenizer = MarkupLMTokenizerFast.from_pretrained(\"microsoft/markuplm-base\")\n",
    "processor = MarkupLMProcessor(feature_extractor, tokenizer)"
   ]
  },
  {
   "cell_type": "code",
   "execution_count": 21,
   "id": "b6d061b6",
   "metadata": {},
   "outputs": [],
   "source": [
    "processor.parse_html = True"
   ]
  },
  {
   "cell_type": "code",
   "execution_count": 22,
   "id": "b7698594",
   "metadata": {},
   "outputs": [],
   "source": [
    "html_string = \"\"\"\n",
    "<!DOCTYPE html>\n",
    "<html>\n",
    "<head>\n",
    "<title>Hello world</title>\n",
    "</head>\n",
    "<body>\n",
    "<h1>Welcome</h1>\n",
    "<p>My name is Alper. I'm from Turkey.</p>\n",
    "</body>\n",
    "</html>\n",
    "\"\"\""
   ]
  },
  {
   "cell_type": "code",
   "execution_count": 29,
   "id": "986a3666",
   "metadata": {},
   "outputs": [],
   "source": [
    "question = \"what country is he from?\""
   ]
  },
  {
   "cell_type": "code",
   "execution_count": 30,
   "id": "cbd5d74a",
   "metadata": {},
   "outputs": [],
   "source": [
    "inputs = processor(html_string, questions=question, return_tensors=\"pt\")"
   ]
  },
  {
   "cell_type": "code",
   "execution_count": 31,
   "id": "2f01c6da",
   "metadata": {},
   "outputs": [],
   "source": [
    "with torch.no_grad():\n",
    "    outputs = model(**inputs)"
   ]
  },
  {
   "cell_type": "code",
   "execution_count": 32,
   "id": "d8c5d905",
   "metadata": {},
   "outputs": [],
   "source": [
    "answer_start = outputs.start_logits.argmax()\n",
    "answer_end = outputs.end_logits.argmax()\n",
    "answer = inputs[\"input_ids\"][0, answer_start:answer_end+1]\n",
    "answer_text = processor.tokenizer.decode(answer)"
   ]
  },
  {
   "cell_type": "code",
   "execution_count": 33,
   "id": "edbf6b19",
   "metadata": {},
   "outputs": [
    {
     "name": "stdout",
     "output_type": "stream",
     "text": [
      "Soru: what country is he from?\n",
      "Yanıt:  Turkey\n"
     ]
    }
   ],
   "source": [
    "print(\"Soru:\", question)\n",
    "print(\"Yanıt:\", answer_text)"
   ]
  },
  {
   "cell_type": "code",
   "execution_count": null,
   "id": "b6e1f40e",
   "metadata": {},
   "outputs": [],
   "source": []
  }
 ],
 "metadata": {
  "kernelspec": {
   "display_name": "Python 3 (ipykernel)",
   "language": "python",
   "name": "python3"
  },
  "language_info": {
   "codemirror_mode": {
    "name": "ipython",
    "version": 3
   },
   "file_extension": ".py",
   "mimetype": "text/x-python",
   "name": "python",
   "nbconvert_exporter": "python",
   "pygments_lexer": "ipython3",
   "version": "3.11.2"
  }
 },
 "nbformat": 4,
 "nbformat_minor": 5
}
